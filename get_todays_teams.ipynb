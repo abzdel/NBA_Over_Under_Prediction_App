{
 "cells": [
  {
   "cell_type": "code",
   "execution_count": 131,
   "metadata": {},
   "outputs": [],
   "source": [
    "import pandas as pd\n",
    "import re"
   ]
  },
  {
   "cell_type": "code",
   "execution_count": 132,
   "metadata": {},
   "outputs": [],
   "source": [
    "# get today's over/under for each team from draftkings\n",
    "df = pd.read_html(\"https://sportsbook.draftkings.com/leagues/basketball/nba\")\n",
    "\n",
    "# potential problem could occur if draft kings changes format of their html\n",
    "df = df[0]"
   ]
  },
  {
   "cell_type": "code",
   "execution_count": 133,
   "metadata": {},
   "outputs": [],
   "source": [
    "# function to separate date from team name\n",
    "def split_team_name(team_and_date_long_string):\n",
    "    \"\"\"Splits up the messy \"tomorrow\" column from our scraped Draft Kings Data.\n",
    "    Returns time, team abbreviation, and team name.\"\"\"\n",
    "\n",
    "\n",
    "    # find date - should be any characters ending with AM or PM\n",
    "    # NOTE: game times appear to be 5 hours ahead of EST\n",
    "    # not an issue unless we choose to implement this as a feature\n",
    "    time = re.search(r'(.+)(AM|PM)', team_and_date_long_string)\n",
    "    if not time:\n",
    "        # if game is in progress, ignore\n",
    "        return None, None, None\n",
    "    \n",
    "    time = time[0]\n",
    "    # find team name - all characters after the date\n",
    "    team = re.search(r'(.+)(AM|PM)(.+)', team_and_date_long_string)[3]\n",
    "\n",
    "    # split abbreviation and team name\n",
    "    team_abbrev = team.split(' ')[0]\n",
    "    team_full = team.split(' ')[1]\n",
    "\n",
    "    return time, team_abbrev, team_full\n",
    "\n",
    "df[[\"time\", \"team_abbrev\", \"team_full\"]] = df.apply(lambda x: split_team_name(x[\"Today\"]), axis=1, result_type=\"expand\")\n",
    "df.dropna(inplace=True)"
   ]
  },
  {
   "cell_type": "code",
   "execution_count": 134,
   "metadata": {},
   "outputs": [],
   "source": [
    "# convert team abbrev to 3 letters if its not\n",
    "\n",
    "def expand_abbrev(abbrev, name):\n",
    "    if name == \"Lakers\":\n",
    "        return 'LAL'\n",
    "    if name == \"Knicks\":\n",
    "        return 'NYK'\n",
    "    if name == \"Clippers\":\n",
    "        return 'LAC'\n",
    "    else:\n",
    "        return abbrev\n",
    "\n",
    "df[\"team_abbrev\"] = df.apply(lambda x: expand_abbrev(x[\"team_abbrev\"], x[\"team_full\"]), axis=1)"
   ]
  },
  {
   "cell_type": "code",
   "execution_count": 135,
   "metadata": {},
   "outputs": [],
   "source": [
    "team = df.team_abbrev.iloc[0]"
   ]
  },
  {
   "cell_type": "code",
   "execution_count": 136,
   "metadata": {},
   "outputs": [],
   "source": [
    "# from nba_api.stats.static import teams\n",
    "\n",
    "# nba_teams = teams.get_teams()\n",
    "# # Select the dictionary for the Celtics, which contains their team ID\n",
    "# celtics = [team for team in nba_teams if team['abbreviation'] == 'BOS'][0]\n",
    "# celtics_id = celtics['id']"
   ]
  },
  {
   "cell_type": "code",
   "execution_count": 137,
   "metadata": {},
   "outputs": [],
   "source": [
    "# this cell is ideal, but times out\n",
    "# from nba_api.stats.endpoints import leaguegamefinder\n",
    "\n",
    "# # Query for games where the Celtics were playing\n",
    "# gamefinder = leaguegamefinder.LeagueGameFinder(team_id_nullable=celtics_id, headers=headers)\n",
    "# # The first DataFrame of those returned is what we want.\n",
    "# games = gamefinder.get_data_frames()[0]\n",
    "\n",
    "# # filter games df to only current nba season\n",
    "\n",
    "# games.head()"
   ]
  },
  {
   "cell_type": "code",
   "execution_count": 138,
   "metadata": {},
   "outputs": [
    {
     "data": {
      "text/plain": [
       "'LAL'"
      ]
     },
     "execution_count": 138,
     "metadata": {},
     "output_type": "execute_result"
    }
   ],
   "source": [
    "team"
   ]
  },
  {
   "cell_type": "code",
   "execution_count": 139,
   "metadata": {},
   "outputs": [],
   "source": [
    "\n",
    "\n",
    "\n",
    "# scrape from basketball reference\n",
    "df = pd.read_html(f\"https://www.basketball-reference.com/teams/{team}/2023_games.html\")\n",
    "\n",
    "df = df[0]"
   ]
  },
  {
   "cell_type": "code",
   "execution_count": 140,
   "metadata": {},
   "outputs": [],
   "source": [
    "df.dropna(subset={\"Tm\"}, inplace=True) # null scores haven't happened yet\n",
    "df.drop(columns={\"Unnamed: 3\", \"Unnamed: 4\", \"Unnamed: 8\", \"Notes\"}, inplace=True) # drop columns we don't need\n",
    "df = df[df[\"Date\"] != \"Date\"] # remove header row showing up as a game\n",
    "\n",
    "\n",
    "df.rename(columns={\"Unnamed: 5\": \"Home\", \"Unnamed: 7\": \"Win\"}, inplace=True)"
   ]
  },
  {
   "cell_type": "code",
   "execution_count": 141,
   "metadata": {},
   "outputs": [],
   "source": [
    "# function to convert Home column to 0 or 1\n",
    "def home_to_binary(home):\n",
    "    if home == \"@\":\n",
    "        return 0\n",
    "    else:\n",
    "        return 1\n",
    "\n",
    "# function to convert Win column to 0 or 1\n",
    "def win_to_binary(win):\n",
    "    if win == \"W\":\n",
    "        return 1\n",
    "    else:\n",
    "        return 0\n",
    "\n",
    "# function to return day of week (first 3 letters) from date\n",
    "def get_day_of_week(date):\n",
    "    return date[:3]\n",
    "\n",
    "df[\"Home\"] = df.apply(lambda x: home_to_binary(x[\"Home\"]), axis=1)\n",
    "df[\"Win\"] = df.apply(lambda x: win_to_binary(x[\"Win\"]), axis=1)\n",
    "df[\"Day\"] = df.apply(lambda x: get_day_of_week(x[\"Date\"]), axis=1)\n",
    "\n",
    "# set data types\n",
    "df[\"Tm\"] = df[\"Tm\"].astype(int)\n",
    "df[\"Opp\"] = df[\"Opp\"].astype(int)\n",
    "df[\"W\"] = df[\"W\"].astype(int)\n",
    "df[\"L\"] = df[\"L\"].astype(int)"
   ]
  },
  {
   "cell_type": "code",
   "execution_count": 142,
   "metadata": {},
   "outputs": [],
   "source": [
    "# function to determine what time of day a game is\n",
    "def get_time_of_day(time):\n",
    "    if time in([\"10:00a\", \"10:30a\", \"11:00a\", \"11:30a\"]):\n",
    "        return \"Morning\"\n",
    "    if time in([\"12:00p\", \"12:30p\", \"1:00p\", \"1:30p\", \"2:00p\", \"2:30p\", \"3:00p\", \"3:30p\"]):\n",
    "        return \"Afternoon\"\n",
    "    if time in([\"4:00p\", \"4:30p\", \"5:00p\", \"5:30p\", \"6:00p\", \"6:30p\", \"7:00p\", \"7:30p\"]):\n",
    "        return \"Evening\"\n",
    "    if time in([\"8:00p\", \"8:30p\", \"9:00p\", \"9:30p\", \"10:00p\", \"10:30p\", \"11:00p\", \"11:30p\"]):\n",
    "        return \"Night\"\n",
    "    else:\n",
    "        return \"Unknown\"\n",
    "\n",
    "df[\"dow\"] = df.apply(lambda x: get_time_of_day(x[\"Start (ET)\"]), axis=1)\n",
    "\n",
    "\n",
    "# convert day column to numeric\n",
    "def day_to_numeric(day):\n",
    "    if day == \"Mon\":\n",
    "        return 1\n",
    "    if day == \"Tue\":\n",
    "        return 2\n",
    "    if day == \"Wed\":\n",
    "        return 3\n",
    "    if day == \"Thu\":\n",
    "        return 4\n",
    "    if day == \"Fri\":\n",
    "        return 5\n",
    "    if day == \"Sat\":\n",
    "        return 6\n",
    "    if day == \"Sun\":\n",
    "        return 7\n",
    "\n",
    "df[\"Day\"] = df.apply(lambda x: day_to_numeric(x[\"Day\"]), axis=1)"
   ]
  },
  {
   "cell_type": "code",
   "execution_count": 143,
   "metadata": {},
   "outputs": [
    {
     "name": "stderr",
     "output_type": "stream",
     "text": [
      "/tmp/ipykernel_10131/4219075429.py:3: FutureWarning: The default value of numeric_only in DataFrame.corr is deprecated. In a future version, it will default to False. Select only valid columns or specify the value of numeric_only to silence this warning.\n",
      "  sns.heatmap(df.corr(), annot=True, cmap=\"coolwarm\")\n"
     ]
    },
    {
     "data": {
      "text/plain": [
       "<AxesSubplot: >"
      ]
     },
     "execution_count": 143,
     "metadata": {},
     "output_type": "execute_result"
    },
    {
     "data": {
      "image/png": "[encoded data removed]",
      "text/plain": [
       "<Figure size 640x480 with 2 Axes>"
      ]
     },
     "metadata": {},
     "output_type": "display_data"
    }
   ],
   "source": [
    "import seaborn as sns\n",
    "\n",
    "sns.heatmap(df.corr(), annot=True, cmap=\"coolwarm\")"
   ]
  },
  {
   "cell_type": "code",
   "execution_count": null,
   "metadata": {},
   "outputs": [],
   "source": []
  },
  {
   "cell_type": "code",
   "execution_count": null,
   "metadata": {},
   "outputs": [],
   "source": []
  },
  {
   "cell_type": "code",
   "execution_count": null,
   "metadata": {},
   "outputs": [],
   "source": []
  },
  {
   "cell_type": "code",
   "execution_count": null,
   "metadata": {},
   "outputs": [],
   "source": []
  },
  {
   "cell_type": "code",
   "execution_count": null,
   "metadata": {},
   "outputs": [],
   "source": []
  }
 ],
 "metadata": {
  "kernelspec": {
   "display_name": "Python 3.10.4 64-bit",
   "language": "python",
   "name": "python3"
  },
  "language_info": {
   "codemirror_mode": {
    "name": "ipython",
    "version": 3
   },
   "file_extension": ".py",
   "mimetype": "text/x-python",
   "name": "python",
   "nbconvert_exporter": "python",
   "pygments_lexer": "ipython3",
   "version": "3.10.4"
  },
  "orig_nbformat": 4,
  "vscode": {
   "interpreter": {
    "hash": "3ad933181bd8a04b432d3370b9dc3b0662ad032c4dfaa4e4f1596c548f763858"
   }
  }
 },
 "nbformat": 4,
 "nbformat_minor": 2
}
