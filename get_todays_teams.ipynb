{
 "cells": [
  {
   "cell_type": "code",
   "execution_count": 1,
   "metadata": {},
   "outputs": [],
   "source": [
    "import pandas as pd\n",
    "import re\n",
    "import pickle"
   ]
  },
  {
   "cell_type": "code",
   "execution_count": 2,
   "metadata": {},
   "outputs": [],
   "source": [
    "# get today's over/under for each team from draftkings\n",
    "df = pd.read_html(\"https://sportsbook.draftkings.com/leagues/basketball/nba\")\n",
    "\n",
    "# potential problem could occur if draft kings changes format of their html\n",
    "df = df[0]\n",
    "\n",
    "# rename column to today instead of tomorrow\n",
    "# happens due to weird time zone issue when loading in data\n",
    "df.rename(columns={\"Tomorrow\": \"Today\"}, inplace=True)"
   ]
  },
  {
   "cell_type": "code",
   "execution_count": 4,
   "metadata": {},
   "outputs": [],
   "source": [
    "# function to separate date from team name\n",
    "def split_team_name(team_and_date_long_string):\n",
    "    \"\"\"Splits up the messy \"tomorrow\" column from our scraped Draft Kings Data.\n",
    "    Returns time, team abbreviation, and team name.\"\"\"\n",
    "\n",
    "\n",
    "    # find date - should be any characters ending with AM or PM\n",
    "    # NOTE: game times appear to be 5 hours ahead of EST\n",
    "    # not an issue unless we choose to implement this as a feature\n",
    "    time = re.search(r'(.+)(AM|PM)', team_and_date_long_string)\n",
    "    if not time:\n",
    "        # if game is in progress, ignore\n",
    "        return None, None, None\n",
    "    \n",
    "    time = time[0]\n",
    "    # find team name - all characters after the date\n",
    "    team = re.search(r'(.+)(AM|PM)(.+)', team_and_date_long_string)[3]\n",
    "\n",
    "    # split abbreviation and team name\n",
    "    team_abbrev = team.split(' ')[0]\n",
    "    team_full = team.split(' ')[1]\n",
    "\n",
    "    return time, team_abbrev, team_full\n",
    "\n",
    "df[[\"time\", \"team_abbrev\", \"team_full\"]] = df.apply(lambda x: split_team_name(x[\"Today\"]), axis=1, result_type=\"expand\")\n",
    "df.dropna(inplace=True)"
   ]
  },
  {
   "cell_type": "code",
   "execution_count": 13,
   "metadata": {},
   "outputs": [],
   "source": [
    "# convert team abbrev to 3 letters if its not\n",
    "\n",
    "def expand_abbrev(abbrev, name):\n",
    "    if name == \"Lakers\":\n",
    "        return 'LAL'\n",
    "    if name == \"Knicks\":\n",
    "        return 'NYK'\n",
    "    if name == \"Clippers\":\n",
    "        return 'LAC'\n",
    "    if name == \"Spurs\":\n",
    "        return 'SAS'\n",
    "    if name ==  \"Nets\":\n",
    "        return 'BRK'\n",
    "    else:\n",
    "        return abbrev\n",
    "\n",
    "df[\"team_abbrev\"] = df.apply(lambda x: expand_abbrev(x[\"team_abbrev\"], x[\"team_full\"]), axis=1)"
   ]
  },
  {
   "cell_type": "code",
   "execution_count": 14,
   "metadata": {},
   "outputs": [],
   "source": [
    "team = df.team_abbrev.iloc[0]"
   ]
  },
  {
   "cell_type": "code",
   "execution_count": 15,
   "metadata": {},
   "outputs": [],
   "source": [
    "# from nba_api.stats.static import teams\n",
    "\n",
    "# nba_teams = teams.get_teams()\n",
    "# # Select the dictionary for the Celtics, which contains their team ID\n",
    "# celtics = [team for team in nba_teams if team['abbreviation'] == 'BOS'][0]\n",
    "# celtics_id = celtics['id']"
   ]
  },
  {
   "cell_type": "code",
   "execution_count": 16,
   "metadata": {},
   "outputs": [],
   "source": [
    "# #this cell is ideal, but times out\n",
    "# from nba_api.stats.endpoints import leaguegamefinder\n",
    "\n",
    "# # Query for games where the Celtics were playing\n",
    "# gamefinder = leaguegamefinder.LeagueGameFinder(team_id_nullable=celtics_id)\n",
    "# # The first DataFrame of those returned is what we want.\n",
    "# games = gamefinder.get_data_frames()[0]\n",
    "\n",
    "# # filter games df to only current nba season\n",
    "\n",
    "# games.head()"
   ]
  },
  {
   "cell_type": "code",
   "execution_count": 17,
   "metadata": {},
   "outputs": [],
   "source": [
    "games = df.copy()"
   ]
  },
  {
   "cell_type": "code",
   "execution_count": 18,
   "metadata": {},
   "outputs": [
    {
     "data": {
      "text/plain": [
       "'BRK'"
      ]
     },
     "execution_count": 18,
     "metadata": {},
     "output_type": "execute_result"
    }
   ],
   "source": [
    "team"
   ]
  },
  {
   "cell_type": "code",
   "execution_count": 82,
   "metadata": {},
   "outputs": [],
   "source": [
    "#team = df.team_abbrev.iloc[0]\n",
    "team = \"BOS\"\n",
    "\n",
    "# scrape from basketball reference\n",
    "df = pd.read_html(f\"https://www.basketball-reference.com/teams/{team}/2023_games.html\")\n",
    "\n",
    "df = df[0]"
   ]
  },
  {
   "cell_type": "code",
   "execution_count": 84,
   "metadata": {},
   "outputs": [
    {
     "name": "stderr",
     "output_type": "stream",
     "text": [
      "/tmp/ipykernel_27885/2493726751.py:6: SettingWithCopyWarning: \n",
      "A value is trying to be set on a copy of a slice from a DataFrame\n",
      "\n",
      "See the caveats in the documentation: https://pandas.pydata.org/pandas-docs/stable/user_guide/indexing.html#returning-a-view-versus-a-copy\n",
      "  df.rename(columns={\"Unnamed: 5\": \"Home\", \"Unnamed: 7\": \"Win\"}, inplace=True)\n"
     ]
    }
   ],
   "source": [
    "df.dropna(subset={\"Tm\"}, inplace=True) # null scores haven't happened yet\n",
    "df.drop(columns={\"Unnamed: 3\", \"Unnamed: 4\", \"Unnamed: 8\", \"Notes\"}, inplace=True) # drop columns we don't need\n",
    "df = df[df[\"Date\"] != \"Date\"] # remove header row showing up as a game\n",
    "\n",
    "\n",
    "df.rename(columns={\"Unnamed: 5\": \"Home\", \"Unnamed: 7\": \"Win\"}, inplace=True)"
   ]
  },
  {
   "cell_type": "code",
   "execution_count": 86,
   "metadata": {},
   "outputs": [],
   "source": [
    "# rename every column in df so the name of the team precedes it\n",
    "# this is so we can merge the two dataframes later\n",
    "df.columns = [f\"team1_{col}\" if col != \"Date\" else col for col in df.columns]"
   ]
  },
  {
   "cell_type": "code",
   "execution_count": null,
   "metadata": {},
   "outputs": [],
   "source": []
  },
  {
   "cell_type": "code",
   "execution_count": null,
   "metadata": {},
   "outputs": [],
   "source": []
  },
  {
   "cell_type": "code",
   "execution_count": 78,
   "metadata": {},
   "outputs": [],
   "source": [
    "# function to convert Home column to 0 or 1\n",
    "def home_to_binary(home):\n",
    "    if home == \"@\":\n",
    "        return 0\n",
    "    else:\n",
    "        return 1\n",
    "\n",
    "# function to convert Win column to 0 or 1\n",
    "def win_to_binary(win):\n",
    "    if win == \"W\":\n",
    "        return 1\n",
    "    else:\n",
    "        return 0\n",
    "\n",
    "# function to return day of week (first 3 letters) from date\n",
    "def get_day_of_week(date):\n",
    "    return date[:3]\n",
    "\n",
    "df[\"Home\"] = df.apply(lambda x: home_to_binary(x[\"Home\"]), axis=1)\n",
    "df[\"Win\"] = df.apply(lambda x: win_to_binary(x[\"Win\"]), axis=1)\n",
    "df[\"Day\"] = df.apply(lambda x: get_day_of_week(x[\"Date\"]), axis=1)\n",
    "\n",
    "# set data types\n",
    "df[\"Tm\"] = df[\"Tm\"].astype(int)\n",
    "df[\"Opp\"] = df[\"Opp\"].astype(int)\n",
    "df[\"W\"] = df[\"W\"].astype(int)\n",
    "df[\"L\"] = df[\"L\"].astype(int)"
   ]
  },
  {
   "cell_type": "code",
   "execution_count": null,
   "metadata": {},
   "outputs": [],
   "source": []
  },
  {
   "attachments": {},
   "cell_type": "markdown",
   "metadata": {},
   "source": [
    "## Function to find the matchups - should be in sets of two\n"
   ]
  },
  {
   "cell_type": "code",
   "execution_count": 72,
   "metadata": {},
   "outputs": [],
   "source": [
    "# for example, the first matchup is team abbrev at index 0 and 1\n",
    "# then 2 and 3, etc.\n",
    "# we want a function that returns pairs of team names\n",
    "def find_matchups(df):\n",
    "    \"\"\"Finds the matchups in the dataframe.\n",
    "    Returns a list of tuples with the team abbreviations for each matchup.\"\"\"\n",
    "    matchups = []\n",
    "    for i in range(0, len(df), 2):\n",
    "        matchups.append((df.iloc[i][\"team_abbrev\"], df.iloc[i+1][\"team_abbrev\"]))\n",
    "    return matchups\n",
    "\n",
    "matchups = find_matchups(games)\n",
    "\n",
    "# convert inner tuples to lists for mutability\n",
    "matchups = [list(x) for x in matchups]\n",
    "\n",
    "# insert \"vs.\" in each list\n",
    "for i in range(len(matchups)):\n",
    "    matchups[i].insert(1, \"vs.\")\n",
    "\n",
    "# turn each list into a string\n",
    "matchups = [\" \".join(x) for x in matchups]\n",
    "matchups"
   ]
  },
  {
   "cell_type": "code",
   "execution_count": 77,
   "metadata": {},
   "outputs": [
    {
     "name": "stderr",
     "output_type": "stream",
     "text": [
      "Bad pipe message: %s [b'\\x1a\\xef\\xf9\\x85xg\\x0c\\xbf\\xc6k\\t\\xe8\\xc2']\n",
      "Bad pipe message: %s [b'\\xb8%c \\xaf\\xe1\\xb3\\x98\\x0c\\x14K\\xcf2\\xea\\x80\\x8dz\\xc1\\x96\\x9e\\x84\\xd8\\xd6\\xf3\\x04Y\\x11\\xd6\\xe1\\xec\\xafR\\x8dPh\\xe8\\x00\\x08\\x13\\x02\\x13\\x03\\x13\\x01\\x00\\xff\\x01\\x00\\x00\\x8f\\x00\\x00\\x00\\x0e\\x00\\x0c\\x00\\x00\\t127.0.0.1\\x00\\x0b\\x00\\x04\\x03\\x00\\x01\\x02\\x00\\n\\x00\\x0c\\x00\\n\\x00\\x1d\\x00\\x17\\x00\\x1e\\x00\\x19\\x00\\x18\\x00#\\x00\\x00\\x00\\x16\\x00\\x00\\x00\\x17\\x00\\x00\\x00\\r\\x00\\x1e\\x00\\x1c\\x04\\x03\\x05\\x03\\x06\\x03\\x08\\x07\\x08\\x08\\x08\\t\\x08\\n\\x08\\x0b\\x08\\x04\\x08\\x05\\x08\\x06\\x04\\x01\\x05']\n",
      "Bad pipe message: %s [b'']\n",
      "Bad pipe message: %s [b'']\n",
      "Bad pipe message: %s [b'\\x03\\x02\\x03\\x04\\x00-\\x00\\x02\\x01\\x01\\x003\\x00&\\x00$\\x00\\x1d\\x00 h\\xe9|\\x86\\xa5\\x13\\xa9\\x0e\\xb1f\\x86\\x13o=\\xd8OM\\xa5\\x1cI\\x9d\\n']\n",
      "Bad pipe message: %s [b'S_\\x1ad\\x1c\\x8b\\x918i`\\xe9\\x08V\\xcbT6z\\xee\\x00\\x00|\\xc0,\\xc00\\x00\\xa3\\x00\\x9f\\xcc\\xa9\\xcc\\xa8\\xcc\\xaa\\xc0\\xaf\\xc0\\xad']\n",
      "Bad pipe message: %s [b\"\\xc0\\x9f\\xc0]\\xc0a\\xc0W\\xc0S\\xc0+\\xc0/\\x00\\xa2\\x00\\x9e\\xc0\\xae\\xc0\\xac\\xc0\\xa2\\xc0\\x9e\\xc0\\\\\\xc0`\\xc0V\\xc0R\\xc0$\\xc0(\\x00k\\x00j\\xc0#\\xc0'\\x00g\\x00@\\xc0\\n\\xc0\\x14\\x009\\x008\\xc0\\t\\xc0\\x13\\x003\\x002\\x00\\x9d\\xc0\\xa1\\xc0\\x9d\\xc0Q\\x00\\x9c\\xc0\\xa0\\xc0\\x9c\\xc0P\\x00=\\x00<\\x005\\x00/\\x00\\x9a\\x00\\x99\\xc0\\x07\\xc0\\x11\\x00\\x96\\x00\\x05\\x00\\xff\\x01\\x00\\x00j\\x00\\x00\\x00\\x0e\\x00\\x0c\\x00\\x00\\t127.0.0.1\\x00\\x0b\\x00\\x04\\x03\\x00\\x01\\x02\\x00\\n\\x00\\x0c\\x00\\n\\x00\\x1d\\x00\\x17\\x00\\x1e\\x00\\x19\\x00\\x18\\x00#\\x00\\x00\\x00\\x16\\x00\\x00\\x00\\x17\\x00\\x00\\x00\\r\\x000\\x00.\\x04\\x03\\x05\\x03\\x06\\x03\\x08\\x07\\x08\\x08\\x08\\t\\x08\\n\\x08\\x0b\\x08\\x04\\x08\\x05\\x08\\x06\\x04\", b'', b'']\n",
      "Bad pipe message: %s [b'', b'\\x03\\x03']\n",
      "Bad pipe message: %s [b'']\n",
      "Bad pipe message: %s [b'', b'\\x02']\n",
      "Bad pipe message: %s [b'\\x05\\x02\\x06']\n",
      "Bad pipe message: %s [b'\\x9e\\x00\\xb6q\\xbb\\xf7\\x02\\xb5\\xff=\\xa0\\xb0do\\x18\"Q3\\x00\\x00\\xa6\\xc0,\\xc00\\x00\\xa3\\x00\\x9f\\xcc\\xa9\\xcc\\xa8\\xcc\\xaa\\xc0\\xaf\\xc0\\xad\\xc0\\xa3\\xc0\\x9f\\xc0]\\xc0a\\xc0W\\xc0S']\n",
      "Bad pipe message: %s [b'\\xe2~\\xd6\\xf3\\x99\\xc89eL\\xf8\\\\\\xc0%^=\\xb6]\\x9d\\x00\\x00\\xa2\\xc0\\x14\\xc0\\n\\x009\\x008\\x007\\x006\\x00\\x88\\x00\\x87\\x00\\x86\\x00\\x85\\xc0\\x19\\x00:\\x00\\x89\\xc0\\x0f\\xc0\\x05\\x005\\x00\\x84\\xc0\\x13\\xc0\\t\\x003\\x002\\x001\\x000\\x00\\x9a\\x00\\x99\\x00\\x98\\x00\\x97\\x00E\\x00D\\x00C\\x00B\\xc0\\x18\\x004\\x00\\x9b\\x00F\\xc0\\x0e\\xc0\\x04\\x00/\\x00\\x96\\x00A\\x00\\x07\\xc0\\x11\\xc0\\x07\\xc0\\x16\\x00\\x18\\xc0\\x0c\\xc0\\x02\\x00\\x05\\x00\\x04\\xc0\\x12\\xc0\\x08\\x00\\x16\\x00\\x13\\x00\\x10\\x00\\r\\xc0\\x17\\x00\\x1b\\xc0\\r\\xc0\\x03\\x00\\n\\x00\\x15\\x00\\x12\\x00\\x0f\\x00\\x0c\\x00\\x1a\\x00\\t\\x00\\x14\\x00\\x11\\x00\\x19\\x00\\x08\\x00\\x06\\x00\\x17\\x00\\x03\\xc0\\x10\\xc0\\x06\\xc0\\x15\\xc0\\x0b\\xc0\\x01\\x00\\x02\\x00\\x01\\x00\\xff\\x02\\x01\\x00\\x00C\\x00\\x00\\x00\\x0e\\x00\\x0c\\x00\\x00\\t127.0.0.1\\x00\\x0b\\x00\\x04\\x03\\x00\\x01\\x02\\x00\\n\\x00\\x1c\\x00\\x1a\\x00\\x17\\x00\\x19\\x00\\x1c\\x00\\x1b\\x00\\x18\\x00\\x1a\\x00\\x16\\x00\\x0e\\x00\\r\\x00\\x0b\\x00\\x0c\\x00\\t\\x00\\n\\x00#\\x00\\x00\\x00\\x0f\\x00']\n",
      "Bad pipe message: %s [b'\\xb0\\xe3\\x1f\\xba\\x05\\x98\\xec\\xe7Vj\\x8bX\\x13\\xf0\\xa2\\xc0\\xc4\\xaf\\x00\\x00>\\xc0\\x14\\xc0\\n\\x009\\x008\\x007\\x006\\xc0\\x0f\\xc0\\x05\\x005\\xc0\\x13\\xc0\\t\\x003\\x002\\x001\\x000\\xc0\\x0e\\xc0\\x04\\x00/\\x00\\x9a\\x00\\x99\\x00\\x98\\x00\\x97\\x00\\x96\\x00\\x07\\xc0']\n",
      "Bad pipe message: %s [b'\\x07\\xc0\\x0c\\xc0\\x02\\x00\\x05\\x00\\x04\\x00\\xff\\x02\\x01\\x00\\x00C']\n",
      "Bad pipe message: %s [b'\\xa66X%\\xfbgiu\\x8aF\\x8a\\x83&)\\x03\\xbc\\xfd\\x98\\x00\\x00\\xa2\\xc0\\x14\\xc0\\n\\x009\\x008\\x007\\x006\\x00\\x88\\x00\\x87\\x00\\x86\\x00\\x85\\xc0\\x19\\x00:\\x00\\x89\\xc0\\x0f\\xc0\\x05\\x005\\x00\\x84\\xc0\\x13\\xc0\\t\\x003\\x002\\x001\\x000\\x00\\x9a\\x00\\x99\\x00\\x98\\x00\\x97\\x00E\\x00D\\x00C\\x00B\\xc0\\x18\\x004\\x00\\x9b\\x00F\\xc0\\x0e\\xc0\\x04\\x00/\\x00\\x96\\x00A\\x00\\x07\\xc0\\x11\\xc0\\x07\\xc0\\x16\\x00\\x18\\xc0\\x0c\\xc0\\x02\\x00\\x05\\x00\\x04\\xc0\\x12\\xc0\\x08\\x00\\x16\\x00\\x13\\x00\\x10\\x00\\r\\xc0\\x17\\x00\\x1b\\xc0\\r\\xc0\\x03\\x00\\n\\x00\\x15\\x00\\x12\\x00\\x0f\\x00\\x0c\\x00\\x1a\\x00\\t\\x00\\x14\\x00\\x11\\x00\\x19\\x00\\x08\\x00\\x06\\x00\\x17\\x00\\x03\\xc0\\x10\\xc0\\x06\\xc0\\x15\\xc0\\x0b\\xc0\\x01\\x00\\x02\\x00\\x01\\x00\\xff\\x02\\x01\\x00\\x00C\\x00\\x00\\x00\\x0e\\x00\\x0c\\x00\\x00\\t127.0.0.1\\x00\\x0b']\n",
      "Bad pipe message: %s [b'Msy\\xe7\\xcb`\\x15\\x99l6\\x82\\xb2\\xf5\\xe2\\x1by\\xddQ\\x00\\x00>\\xc0\\x14']\n",
      "Bad pipe message: %s [b\"\\xd8\\xa9\\xae>i\\x81;\\xd9\\xf1\\xf9?\\x18\\xff\\xf1m\\x10\\x91\\x92\\x00\\x00\\x86\\xc00\\xc0,\\xc0(\\xc0$\\xc0\\x14\\xc0\\n\\x00\\xa5\\x00\\xa3\\x00\\xa1\\x00\\x9f\\x00k\\x00j\\x00i\\x00h\\x009\\x008\\x007\\x006\\xc02\\xc0.\\xc0*\\xc0&\\xc0\\x0f\\xc0\\x05\\x00\\x9d\\x00=\\x005\\xc0/\\xc0+\\xc0'\\xc0#\\xc0\\x13\\xc0\\t\\x00\\xa4\\x00\\xa2\\x00\\xa0\\x00\\x9e\\x00g\\x00@\\x00?\\x00>\\x003\\x002\\x001\\x000\\xc01\\xc0-\\xc0)\\xc0\", b'\\x0e\\xc0\\x04\\x00\\x9c\\x00<\\x00/\\x00\\x9a\\x00\\x99\\x00\\x98\\x00\\x97\\x00\\x96\\x00\\x07\\xc0\\x11\\xc0\\x07\\xc0\\x0c\\xc0\\x02\\x00\\x05\\x00\\x04\\x00\\xff\\x02']\n",
      "Bad pipe message: %s [b'']\n",
      "Bad pipe message: %s [b\"\\xe9\\x18\\xf9\\xc7c\\x18\\xf8\\xf8o\\xe4\\xca[~D\\xfb)q\\x99\\x00\\x00\\xf4\\xc00\\xc0,\\xc0(\\xc0$\\xc0\\x14\\xc0\\n\\x00\\xa5\\x00\\xa3\\x00\\xa1\\x00\\x9f\\x00k\\x00j\\x00i\\x00h\\x009\\x008\\x007\\x006\\x00\\x88\\x00\\x87\\x00\\x86\\x00\\x85\\xc0\\x19\\x00\\xa7\\x00m\\x00:\\x00\\x89\\xc02\\xc0.\\xc0*\\xc0&\\xc0\\x0f\\xc0\\x05\\x00\\x9d\\x00=\\x005\\x00\\x84\\xc0/\\xc0+\\xc0'\\xc0#\\xc0\\x13\\xc0\\t\\x00\\xa4\\x00\\xa2\\x00\\xa0\\x00\\x9e\\x00g\\x00@\\x00?\\x00>\\x003\\x002\\x001\\x000\\x00\\x9a\\x00\\x99\\x00\\x98\\x00\\x97\\x00E\\x00D\\x00C\\x00B\\xc0\\x18\\x00\\xa6\\x00\"]\n",
      "Bad pipe message: %s [b'4\\x00\\x9b\\x00F\\xc01\\xc0-\\xc0)\\xc0%\\xc0\\x0e\\xc0\\x04\\x00\\x9c\\x00<\\x00/\\x00\\x96\\x00A\\x00\\x07\\xc0\\x11\\xc0\\x07\\xc0\\x16\\x00\\x18\\xc0\\x0c\\xc0\\x02\\x00\\x05\\x00\\x04\\xc0\\x12\\xc0\\x08\\x00\\x16\\x00\\x13\\x00\\x10\\x00\\r\\xc0\\x17\\x00\\x1b\\xc0\\r\\xc0\\x03\\x00\\n\\x00\\x15\\x00\\x12\\x00\\x0f\\x00\\x0c\\x00\\x1a\\x00\\t\\x00\\x14\\x00\\x11\\x00\\x19\\x00\\x08\\x00\\x06\\x00\\x17\\x00\\x03\\xc0\\x10\\xc0\\x06\\xc0\\x15\\xc0\\x0b\\xc0\\x01\\x00;\\x00\\x02']\n"
     ]
    }
   ],
   "source": [
    "pd.Series(matchups).to_csv(\"matchups.csv\")"
   ]
  },
  {
   "cell_type": "code",
   "execution_count": 22,
   "metadata": {},
   "outputs": [],
   "source": [
    "# function to determine what time of day a game is\n",
    "def get_time_of_day(time):\n",
    "    if time in([\"10:00a\", \"10:30a\", \"11:00a\", \"11:30a\"]):\n",
    "        return \"Morning\"\n",
    "    if time in([\"12:00p\", \"12:30p\", \"1:00p\", \"1:30p\", \"2:00p\", \"2:30p\", \"3:00p\", \"3:30p\"]):\n",
    "        return \"Afternoon\"\n",
    "    if time in([\"4:00p\", \"4:30p\", \"5:00p\", \"5:30p\", \"6:00p\", \"6:30p\", \"7:00p\", \"7:30p\"]):\n",
    "        return \"Evening\"\n",
    "    if time in([\"8:00p\", \"8:30p\", \"9:00p\", \"9:30p\", \"10:00p\", \"10:30p\", \"11:00p\", \"11:30p\"]):\n",
    "        return \"Night\"\n",
    "    else:\n",
    "        return \"Unknown\"\n",
    "\n",
    "df[\"dow\"] = df.apply(lambda x: get_time_of_day(x[\"Start (ET)\"]), axis=1)\n",
    "\n",
    "\n",
    "# convert day column to numeric\n",
    "def day_to_numeric(day):\n",
    "    if day == \"Mon\":\n",
    "        return 1\n",
    "    if day == \"Tue\":\n",
    "        return 2\n",
    "    if day == \"Wed\":\n",
    "        return 3\n",
    "    if day == \"Thu\":\n",
    "        return 4\n",
    "    if day == \"Fri\":\n",
    "        return 5\n",
    "    if day == \"Sat\":\n",
    "        return 6\n",
    "    if day == \"Sun\":\n",
    "        return 7\n",
    "\n",
    "df[\"Day\"] = df.apply(lambda x: day_to_numeric(x[\"Day\"]), axis=1)"
   ]
  },
  {
   "cell_type": "code",
   "execution_count": 23,
   "metadata": {},
   "outputs": [
    {
     "name": "stderr",
     "output_type": "stream",
     "text": [
      "/tmp/ipykernel_27885/4219075429.py:3: FutureWarning: The default value of numeric_only in DataFrame.corr is deprecated. In a future version, it will default to False. Select only valid columns or specify the value of numeric_only to silence this warning.\n",
      "  sns.heatmap(df.corr(), annot=True, cmap=\"coolwarm\")\n"
     ]
    },
    {
     "data": {
      "text/plain": [
       "<AxesSubplot: >"
      ]
     },
     "execution_count": 23,
     "metadata": {},
     "output_type": "execute_result"
    },
    {
     "data": {
      "image/png": "[encoded data removed]",
      "text/plain": [
       "<Figure size 640x480 with 2 Axes>"
      ]
     },
     "metadata": {},
     "output_type": "display_data"
    }
   ],
   "source": [
    "import seaborn as sns\n",
    "\n",
    "sns.heatmap(df.corr(), annot=True, cmap=\"coolwarm\")"
   ]
  },
  {
   "cell_type": "code",
   "execution_count": null,
   "metadata": {},
   "outputs": [],
   "source": [
    "# ohe for dow\n",
    "df = pd.get_dummies(df, columns=[\"dow\"], drop_first=True)"
   ]
  },
  {
   "cell_type": "code",
   "execution_count": null,
   "metadata": {},
   "outputs": [],
   "source": []
  },
  {
   "cell_type": "code",
   "execution_count": null,
   "metadata": {},
   "outputs": [],
   "source": []
  },
  {
   "cell_type": "code",
   "execution_count": null,
   "metadata": {},
   "outputs": [],
   "source": []
  },
  {
   "cell_type": "code",
   "execution_count": null,
   "metadata": {},
   "outputs": [],
   "source": []
  },
  {
   "cell_type": "code",
   "execution_count": null,
   "metadata": {},
   "outputs": [],
   "source": []
  },
  {
   "cell_type": "code",
   "execution_count": null,
   "metadata": {},
   "outputs": [],
   "source": []
  }
 ],
 "metadata": {
  "kernelspec": {
   "display_name": "Python 3.10.4 64-bit",
   "language": "python",
   "name": "python3"
  },
  "language_info": {
   "codemirror_mode": {
    "name": "ipython",
    "version": 3
   },
   "file_extension": ".py",
   "mimetype": "text/x-python",
   "name": "python",
   "nbconvert_exporter": "python",
   "pygments_lexer": "ipython3",
   "version": "3.10.4 (main, Nov 29 2022, 20:00:25) [GCC 9.4.0]"
  },
  "orig_nbformat": 4,
  "vscode": {
   "interpreter": {
    "hash": "3ad933181bd8a04b432d3370b9dc3b0662ad032c4dfaa4e4f1596c548f763858"
   }
  }
 },
 "nbformat": 4,
 "nbformat_minor": 2
}
