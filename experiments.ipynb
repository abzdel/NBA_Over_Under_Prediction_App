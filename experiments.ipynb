{
 "cells": [
  {
   "cell_type": "code",
   "execution_count": 1,
   "metadata": {},
   "outputs": [],
   "source": [
    "import pandas as pd\n",
    "import numpy as np\n",
    "from sklearn.linear_model import LinearRegression\n",
    "from sklearn.model_selection import train_test_split"
   ]
  },
  {
   "cell_type": "code",
   "execution_count": 2,
   "metadata": {},
   "outputs": [
    {
     "name": "stdout",
     "output_type": "stream",
     "text": [
      "BOS vs. LAC\n"
     ]
    }
   ],
   "source": [
    "matchup = pd.read_csv(\"matchup.txt\", header=None)\n",
    "matchup = str(matchup[0].values[0])\n",
    "print(matchup)\n"
   ]
  },
  {
   "cell_type": "code",
   "execution_count": 3,
   "metadata": {},
   "outputs": [],
   "source": [
    "team1 = matchup.split(\" \")[0]\n",
    "team2 = matchup.split(\" \")[-1]\n",
    "\n",
    "\n",
    "# scrape from basketball reference\n",
    "team1_stats = pd.read_html(f\"https://www.basketball-reference.com/teams/{team1}/2023_games.html\")\n",
    "team2_stats = pd.read_html(f\"https://www.basketball-reference.com/teams/{team2}/2023_games.html\")\n",
    "\n",
    "team1_stats = team1_stats[0]\n",
    "team2_stats = team2_stats[0]"
   ]
  },
  {
   "cell_type": "code",
   "execution_count": 4,
   "metadata": {},
   "outputs": [],
   "source": [
    "team1_stats.dropna(subset={\"Tm\"}, inplace=True) # null scores haven't happened yet\n",
    "team1_stats.drop(columns={\"Unnamed: 3\", \"Unnamed: 4\", \"Unnamed: 8\", \"Notes\"}, inplace=True) # drop columns we don't need\n",
    "team1_stats = team1_stats[team1_stats[\"Date\"] != \"Date\"] # remove header row showing up as a game\n",
    "team1_stats.rename(columns={\"Unnamed: 5\": \"Home\", \"Unnamed: 7\": \"Win\"}, inplace=True)\n",
    "\n",
    "# do above steps for team2\n",
    "team2_stats.dropna(subset={\"Tm\"}, inplace=True)\n",
    "team2_stats.drop(columns={\"Unnamed: 3\", \"Unnamed: 4\", \"Unnamed: 8\", \"Notes\"}, inplace=True)\n",
    "team2_stats = team2_stats[team2_stats[\"Date\"] != \"Date\"]\n",
    "team2_stats.rename(columns={\"Unnamed: 5\": \"Home\", \"Unnamed: 7\": \"Win\"}, inplace=True)"
   ]
  },
  {
   "cell_type": "code",
   "execution_count": 5,
   "metadata": {},
   "outputs": [],
   "source": [
    "# function to convert Home column to 0 or 1\n",
    "def home_to_binary(home):\n",
    "    if home == \"@\":\n",
    "        return 0\n",
    "    else:\n",
    "        return 1\n",
    "\n",
    "# function to convert Win column to 0 or 1\n",
    "def win_to_binary(win):\n",
    "    if win == \"W\":\n",
    "        return 1\n",
    "    else:\n",
    "        return 0\n",
    "\n",
    "# function to return day of week (first 3 letters) from date\n",
    "def get_day_of_week(date):\n",
    "    return date[:3]\n",
    "\n",
    "team1_stats[\"Home\"] = team1_stats.apply(lambda x: home_to_binary(x[\"Home\"]), axis=1)\n",
    "team1_stats[\"Win\"] = team1_stats.apply(lambda x: win_to_binary(x[\"Win\"]), axis=1)\n",
    "team1_stats[\"Day\"] = team1_stats.apply(lambda x: get_day_of_week(x[\"Date\"]), axis=1)\n",
    "\n",
    "# set data types\n",
    "team1_stats[\"Tm\"] = team1_stats[\"Tm\"].astype(int)\n",
    "team1_stats[\"Opp\"] = team1_stats[\"Opp\"].astype(int)\n",
    "team1_stats[\"W\"] = team1_stats[\"W\"].astype(int)\n",
    "team1_stats[\"L\"] = team1_stats[\"L\"].astype(int)\n",
    "\n",
    "# do same for team2\n",
    "team2_stats[\"Home\"] = team2_stats.apply(lambda x: home_to_binary(x[\"Home\"]), axis=1)\n",
    "team2_stats[\"Win\"] = team2_stats.apply(lambda x: win_to_binary(x[\"Win\"]), axis=1)\n",
    "team2_stats[\"Day\"] = team2_stats.apply(lambda x: get_day_of_week(x[\"Date\"]), axis=1)\n",
    "\n",
    "team2_stats[\"Tm\"] = team2_stats[\"Tm\"].astype(int)\n",
    "team2_stats[\"Opp\"] = team2_stats[\"Opp\"].astype(int)\n",
    "team2_stats[\"W\"] = team2_stats[\"W\"].astype(int)\n",
    "team2_stats[\"L\"] = team2_stats[\"L\"].astype(int)"
   ]
  },
  {
   "cell_type": "code",
   "execution_count": 6,
   "metadata": {},
   "outputs": [],
   "source": [
    "team1_stats[\"Date\"] = team1_stats[\"Date\"].apply(lambda x: x[4:])\n",
    "team2_stats[\"Date\"] = team2_stats[\"Date\"].apply(lambda x: x[4:])\n",
    "\n",
    "team1_stats[\"Date\"] = pd.to_datetime(team1_stats[\"Date\"])\n",
    "team2_stats[\"Date\"] = pd.to_datetime(team2_stats[\"Date\"])"
   ]
  },
  {
   "cell_type": "code",
   "execution_count": 7,
   "metadata": {},
   "outputs": [],
   "source": [
    "def day_to_numeric(day):\n",
    "    if day == \"Mon\":\n",
    "        return 1\n",
    "    if day == \"Tue\":\n",
    "        return 2\n",
    "    if day == \"Wed\":\n",
    "        return 3\n",
    "    if day == \"Thu\":\n",
    "        return 4\n",
    "    if day == \"Fri\":\n",
    "        return 5\n",
    "    if day == \"Sat\":\n",
    "        return 6\n",
    "    if day == \"Sun\":\n",
    "        return 7\n",
    "\n",
    "team1_stats[\"Day\"] = team1_stats.apply(lambda x: day_to_numeric(x[\"Day\"]), axis=1)\n",
    "team2_stats[\"Day\"] = team2_stats.apply(lambda x: day_to_numeric(x[\"Day\"]), axis=1)"
   ]
  },
  {
   "cell_type": "code",
   "execution_count": 8,
   "metadata": {},
   "outputs": [],
   "source": [
    "ranks = pd.read_html(\"https://www.cbssports.com/nba/powerrankings/\")\n",
    "ranks = ranks[0]\n",
    "\n",
    "ranks[\"Chg\"] = ranks[\"Chg\"].apply(lambda x: 0 if x == \"--\" else x)\n",
    "ranks.rename(columns={\"Unnamed: 2\": \"Note\"}, inplace=True) # may incorporate sentiment analysis into model\n",
    "\n",
    "team1_stats[\"teamname\"] = team1_stats[\"Opponent\"].apply(lambda x: x.split(\" \")[-1])\n",
    "team2_stats[\"teamname\"] = team2_stats[\"Opponent\"].apply(lambda x: x.split(\" \")[-1])\n",
    "\n",
    "team1_stats = team1_stats.merge(ranks, how=\"left\", left_on=\"teamname\", right_on=\"Teams\")\n",
    "team2_stats = team2_stats.merge(ranks, how=\"left\", left_on=\"teamname\", right_on=\"Teams\")\n",
    "\n",
    "\n",
    "\n",
    "team1_stats = team1_stats[[\"G\", \"Home\", \"W\", \"L\", \"Day\", \"Rk\", \"Chg\", \"Tm\"]]\n",
    "team2_stats = team2_stats[[\"G\", \"Home\", \"W\", \"L\", \"Day\", \"Rk\", \"Chg\", \"Tm\"]]\n",
    "\n",
    "# impute null values with mean of column\n",
    "team1_stats.dropna(inplace=True)\n",
    "team2_stats.dropna(inplace=True)\n",
    "\n",
    "# export both to csv\n",
    "team1_stats.to_csv(\"data/team1_stats.csv\", index=False)\n",
    "team2_stats.to_csv(\"data/team2_stats.csv\", index=False)\n",
    "\n",
    "# export ranks\n",
    "ranks.to_csv(\"data/ranks.csv\", index=False)"
   ]
  },
  {
   "cell_type": "code",
   "execution_count": 2,
   "metadata": {},
   "outputs": [],
   "source": [
    "import pandas as pd\n",
    "\n",
    "# load in matchup.txt\n",
    "matchup = pd.read_csv(\"matchup.txt\", header=None)"
   ]
  },
  {
   "cell_type": "code",
   "execution_count": 9,
   "metadata": {},
   "outputs": [
    {
     "data": {
      "text/plain": [
       "'PHI'"
      ]
     },
     "execution_count": 9,
     "metadata": {},
     "output_type": "execute_result"
    }
   ],
   "source": [
    "matchup.loc[1][0].split(\" \")"
   ]
  },
  {
   "cell_type": "code",
   "execution_count": 10,
   "metadata": {},
   "outputs": [],
   "source": [
    "from datetime import datetime"
   ]
  },
  {
   "cell_type": "code",
   "execution_count": 11,
   "metadata": {},
   "outputs": [],
   "source": [
    "def get_date(date):\n",
    "    \"\"\"truncates day of week out of column, returns datetime object\"\"\"\n",
    "\n",
    "    temp = pd.to_datetime(date[4:])\n",
    "    temp = str(temp)[:-9]\n",
    "    return temp\n",
    " \n",
    "    \n"
   ]
  },
  {
   "cell_type": "code",
   "execution_count": 66,
   "metadata": {},
   "outputs": [],
   "source": [
    "team2 = \"LAL\""
   ]
  },
  {
   "cell_type": "code",
   "execution_count": 67,
   "metadata": {},
   "outputs": [],
   "source": [
    "team1_stats = pd.read_html(f\"https://www.basketball-reference.com/teams/{team1}/2023_games.html\")[0]\n",
    "team2_stats = pd.read_html(f\"https://www.basketball-reference.com/teams/{team2}/2023_games.html\")[0]\n",
    "\n",
    "# use get date\n",
    "team1_stats[\"Date\"] = team1_stats.apply(lambda x: get_date(x[\"Date\"]), axis=1)\n",
    "team2_stats[\"Date\"] = team2_stats.apply(lambda x: get_date(x[\"Date\"]), axis=1)\n"
   ]
  },
  {
   "cell_type": "code",
   "execution_count": 68,
   "metadata": {},
   "outputs": [],
   "source": [
    "team1_stats[\"Date\"] = pd.to_datetime(team1_stats[\"Date\"])\n",
    "team2_stats[\"Date\"] = pd.to_datetime(team2_stats[\"Date\"])\n",
    "\n",
    "# drop null subset date\n",
    "team1_stats.dropna(subset=[\"Date\"], inplace=True)\n",
    "team2_stats.dropna(subset=[\"Date\"], inplace=True)"
   ]
  },
  {
   "cell_type": "code",
   "execution_count": 69,
   "metadata": {},
   "outputs": [],
   "source": [
    "from datetime import datetime, timezone\n",
    "import pytz\n",
    "\n",
    "def utc_to_local(utc_dt):\n",
    "    return utc_dt.replace(tzinfo=timezone.utc).astimezone(tz=None)\n",
    "\n",
    "# apply to both\n",
    "team1_stats[\"Date\"] = team1_stats.apply(lambda x: utc_to_local(x[\"Date\"]), axis=1)\n",
    "team2_stats[\"Date\"] = team2_stats.apply(lambda x: utc_to_local(x[\"Date\"]), axis=1)"
   ]
  },
  {
   "cell_type": "code",
   "execution_count": 70,
   "metadata": {},
   "outputs": [],
   "source": [
    "est = pytz.timezone('US/Eastern')\n",
    "\n",
    "\n",
    "# localize each date to est\n",
    "team1_stats[\"Date\"] = team1_stats.apply(lambda x: est.localize(x[\"Date\"]), axis=1)\n",
    "team2_stats[\"Date\"] = team2_stats.apply(lambda x: est.localize(x[\"Date\"]), axis=1)"
   ]
  },
  {
   "cell_type": "code",
   "execution_count": 71,
   "metadata": {},
   "outputs": [],
   "source": [
    "from datetime import date\n",
    "timezone = pytz.timezone('US/Eastern')\n",
    "now = datetime.now(tz = timezone)\n",
    "now = now.strftime(\"%Y %m %d\")\n",
    "team1_stats = team1_stats[team1_stats[\"Date\"] == now]\n",
    "team2_stats = team2_stats[team2_stats[\"Date\"] == now]"
   ]
  },
  {
   "cell_type": "code",
   "execution_count": 72,
   "metadata": {},
   "outputs": [
    {
     "data": {
      "text/html": [
       "<div>\n",
       "<style scoped>\n",
       "    .dataframe tbody tr th:only-of-type {\n",
       "        vertical-align: middle;\n",
       "    }\n",
       "\n",
       "    .dataframe tbody tr th {\n",
       "        vertical-align: top;\n",
       "    }\n",
       "\n",
       "    .dataframe thead th {\n",
       "        text-align: right;\n",
       "    }\n",
       "</style>\n",
       "<table border=\"1\" class=\"dataframe\">\n",
       "  <thead>\n",
       "    <tr style=\"text-align: right;\">\n",
       "      <th></th>\n",
       "      <th>G</th>\n",
       "      <th>Date</th>\n",
       "      <th>Start (ET)</th>\n",
       "      <th>Unnamed: 3</th>\n",
       "      <th>Unnamed: 4</th>\n",
       "      <th>Unnamed: 5</th>\n",
       "      <th>Opponent</th>\n",
       "      <th>Unnamed: 7</th>\n",
       "      <th>Unnamed: 8</th>\n",
       "      <th>Tm</th>\n",
       "      <th>Opp</th>\n",
       "      <th>W</th>\n",
       "      <th>L</th>\n",
       "      <th>Streak</th>\n",
       "      <th>Notes</th>\n",
       "    </tr>\n",
       "  </thead>\n",
       "  <tbody>\n",
       "    <tr>\n",
       "      <th>29</th>\n",
       "      <td>29</td>\n",
       "      <td>2022-12-13 00:00:00-05:00</td>\n",
       "      <td>10:00p</td>\n",
       "      <td>NaN</td>\n",
       "      <td>NaN</td>\n",
       "      <td>@</td>\n",
       "      <td>Los Angeles Lakers</td>\n",
       "      <td>NaN</td>\n",
       "      <td>NaN</td>\n",
       "      <td>NaN</td>\n",
       "      <td>NaN</td>\n",
       "      <td>NaN</td>\n",
       "      <td>NaN</td>\n",
       "      <td>NaN</td>\n",
       "      <td>NaN</td>\n",
       "    </tr>\n",
       "  </tbody>\n",
       "</table>\n",
       "</div>"
      ],
      "text/plain": [
       "     G                      Date Start (ET)  Unnamed: 3 Unnamed: 4 Unnamed: 5  \\\n",
       "29  29 2022-12-13 00:00:00-05:00     10:00p         NaN        NaN          @   \n",
       "\n",
       "              Opponent Unnamed: 7 Unnamed: 8   Tm  Opp    W    L Streak Notes  \n",
       "29  Los Angeles Lakers        NaN        NaN  NaN  NaN  NaN  NaN    NaN   NaN  "
      ]
     },
     "execution_count": 72,
     "metadata": {},
     "output_type": "execute_result"
    }
   ],
   "source": [
    "team1_stats"
   ]
  },
  {
   "cell_type": "code",
   "execution_count": 73,
   "metadata": {},
   "outputs": [],
   "source": [
    "# merge ranks1 to team1 stats and team2 stats\n",
    "team1_stats1 = team1_stats.merge(ranks1, how=\"left\", left_on=\"Opponent\", right_on=\"teamname\")\n",
    "team2_stats1 = team2_stats.merge(ranks1, how=\"left\", left_on=\"Opponent\", right_on=\"teamname\")"
   ]
  },
  {
   "cell_type": "code",
   "execution_count": 74,
   "metadata": {},
   "outputs": [],
   "source": [
    "team1_stats[\"opp_teamname\"] = team1_stats[\"Opponent\"].apply(lambda x: x.split(\" \")[-1])\n",
    "team2_stats[\"opp_teamname\"] = team2_stats[\"Opponent\"].apply(lambda x: x.split(\" \")[-1])"
   ]
  },
  {
   "cell_type": "code",
   "execution_count": 75,
   "metadata": {},
   "outputs": [],
   "source": [
    "team1_stats = team1_stats.merge(ranks, how=\"left\", left_on=\"opp_teamname\", right_on=\"Teams\")\n",
    "team2_stats = team2_stats.merge(ranks, how=\"left\", left_on=\"opp_teamname\", right_on=\"Teams\")"
   ]
  },
  {
   "cell_type": "code",
   "execution_count": 76,
   "metadata": {},
   "outputs": [],
   "source": [
    "# set max cols none\n",
    "pd.set_option('display.max_columns', None)"
   ]
  },
  {
   "cell_type": "code",
   "execution_count": 77,
   "metadata": {},
   "outputs": [],
   "source": [
    "team1_stats[\"Home\"] = team1_stats[\"Unnamed: 5\"].apply(lambda x: home_to_binary(x))\n",
    "team2_stats[\"Home\"] = team2_stats[\"Unnamed: 5\"].apply(lambda x: home_to_binary(x))"
   ]
  },
  {
   "cell_type": "code",
   "execution_count": 78,
   "metadata": {},
   "outputs": [
    {
     "data": {
      "text/html": [
       "<div>\n",
       "<style scoped>\n",
       "    .dataframe tbody tr th:only-of-type {\n",
       "        vertical-align: middle;\n",
       "    }\n",
       "\n",
       "    .dataframe tbody tr th {\n",
       "        vertical-align: top;\n",
       "    }\n",
       "\n",
       "    .dataframe thead th {\n",
       "        text-align: right;\n",
       "    }\n",
       "</style>\n",
       "<table border=\"1\" class=\"dataframe\">\n",
       "  <thead>\n",
       "    <tr style=\"text-align: right;\">\n",
       "      <th></th>\n",
       "      <th>Rk</th>\n",
       "      <th>Chg</th>\n",
       "      <th>Home</th>\n",
       "    </tr>\n",
       "  </thead>\n",
       "  <tbody>\n",
       "    <tr>\n",
       "      <th>0</th>\n",
       "      <td>1</td>\n",
       "      <td>0</td>\n",
       "      <td>1</td>\n",
       "    </tr>\n",
       "  </tbody>\n",
       "</table>\n",
       "</div>"
      ],
      "text/plain": [
       "   Rk Chg  Home\n",
       "0   1   0     1"
      ]
     },
     "execution_count": 78,
     "metadata": {},
     "output_type": "execute_result"
    }
   ],
   "source": [
    "team2_stats[[\"Rk\", \"Chg\", \"Home\"]]"
   ]
  },
  {
   "cell_type": "code",
   "execution_count": 35,
   "metadata": {},
   "outputs": [
    {
     "ename": "KeyError",
     "evalue": "'Date'",
     "output_type": "error",
     "traceback": [
      "\u001b[0;31m---------------------------------------------------------------------------\u001b[0m",
      "\u001b[0;31mKeyError\u001b[0m                                  Traceback (most recent call last)",
      "Cell \u001b[0;32mIn[35], line 3\u001b[0m\n\u001b[1;32m      1\u001b[0m \u001b[39mfrom\u001b[39;00m \u001b[39mutils\u001b[39;00m \u001b[39mimport\u001b[39;00m \u001b[39m*\u001b[39m\n\u001b[0;32m----> 3\u001b[0m get_matchup_to_predict(\u001b[39m\"\u001b[39;49m\u001b[39mLAL\u001b[39;49m\u001b[39m\"\u001b[39;49m, \u001b[39m\"\u001b[39;49m\u001b[39mBOS\u001b[39;49m\u001b[39m\"\u001b[39;49m)\n",
      "File \u001b[0;32m/workspaces/NBA_Over-Under_Prediction/utils.py:103\u001b[0m, in \u001b[0;36mget_matchup_to_predict\u001b[0;34m(team1, team2)\u001b[0m\n\u001b[1;32m     99\u001b[0m team2_stats \u001b[39m=\u001b[39m team2_stats[team2_stats[\u001b[39m\"\u001b[39m\u001b[39mDate\u001b[39m\u001b[39m\"\u001b[39m] \u001b[39m==\u001b[39m now]\n\u001b[1;32m    101\u001b[0m ranks \u001b[39m=\u001b[39m pd\u001b[39m.\u001b[39mread_csv(\u001b[39m\"\u001b[39m\u001b[39mdata/ranks.csv\u001b[39m\u001b[39m\"\u001b[39m)\n\u001b[0;32m--> 103\u001b[0m team1_stats \u001b[39m=\u001b[39m team1_stats\u001b[39m.\u001b[39;49mmerge(\n\u001b[1;32m    104\u001b[0m     ranks, how\u001b[39m=\u001b[39;49m\u001b[39m\"\u001b[39;49m\u001b[39mleft\u001b[39;49m\u001b[39m\"\u001b[39;49m, left_on\u001b[39m=\u001b[39;49m\u001b[39m\"\u001b[39;49m\u001b[39mDate\u001b[39;49m\u001b[39m\"\u001b[39;49m, right_on\u001b[39m=\u001b[39;49m\u001b[39m\"\u001b[39;49m\u001b[39mDate\u001b[39;49m\u001b[39m\"\u001b[39;49m)\n",
      "File \u001b[0;32m~/.local/lib/python3.10/site-packages/pandas/core/frame.py:10090\u001b[0m, in \u001b[0;36mDataFrame.merge\u001b[0;34m(self, right, how, on, left_on, right_on, left_index, right_index, sort, suffixes, copy, indicator, validate)\u001b[0m\n\u001b[1;32m  10071\u001b[0m \u001b[39m@Substitution\u001b[39m(\u001b[39m\"\u001b[39m\u001b[39m\"\u001b[39m)\n\u001b[1;32m  10072\u001b[0m \u001b[39m@Appender\u001b[39m(_merge_doc, indents\u001b[39m=\u001b[39m\u001b[39m2\u001b[39m)\n\u001b[1;32m  10073\u001b[0m \u001b[39mdef\u001b[39;00m \u001b[39mmerge\u001b[39m(\n\u001b[0;32m   (...)\u001b[0m\n\u001b[1;32m  10086\u001b[0m     validate: \u001b[39mstr\u001b[39m \u001b[39m|\u001b[39m \u001b[39mNone\u001b[39;00m \u001b[39m=\u001b[39m \u001b[39mNone\u001b[39;00m,\n\u001b[1;32m  10087\u001b[0m ) \u001b[39m-\u001b[39m\u001b[39m>\u001b[39m DataFrame:\n\u001b[1;32m  10088\u001b[0m     \u001b[39mfrom\u001b[39;00m \u001b[39mpandas\u001b[39;00m\u001b[39m.\u001b[39;00m\u001b[39mcore\u001b[39;00m\u001b[39m.\u001b[39;00m\u001b[39mreshape\u001b[39;00m\u001b[39m.\u001b[39;00m\u001b[39mmerge\u001b[39;00m \u001b[39mimport\u001b[39;00m merge\n\u001b[0;32m> 10090\u001b[0m     \u001b[39mreturn\u001b[39;00m merge(\n\u001b[1;32m  10091\u001b[0m         \u001b[39mself\u001b[39;49m,\n\u001b[1;32m  10092\u001b[0m         right,\n\u001b[1;32m  10093\u001b[0m         how\u001b[39m=\u001b[39;49mhow,\n\u001b[1;32m  10094\u001b[0m         on\u001b[39m=\u001b[39;49mon,\n\u001b[1;32m  10095\u001b[0m         left_on\u001b[39m=\u001b[39;49mleft_on,\n\u001b[1;32m  10096\u001b[0m         right_on\u001b[39m=\u001b[39;49mright_on,\n\u001b[1;32m  10097\u001b[0m         left_index\u001b[39m=\u001b[39;49mleft_index,\n\u001b[1;32m  10098\u001b[0m         right_index\u001b[39m=\u001b[39;49mright_index,\n\u001b[1;32m  10099\u001b[0m         sort\u001b[39m=\u001b[39;49msort,\n\u001b[1;32m  10100\u001b[0m         suffixes\u001b[39m=\u001b[39;49msuffixes,\n\u001b[1;32m  10101\u001b[0m         copy\u001b[39m=\u001b[39;49mcopy,\n\u001b[1;32m  10102\u001b[0m         indicator\u001b[39m=\u001b[39;49mindicator,\n\u001b[1;32m  10103\u001b[0m         validate\u001b[39m=\u001b[39;49mvalidate,\n\u001b[1;32m  10104\u001b[0m     )\n",
      "File \u001b[0;32m~/.local/lib/python3.10/site-packages/pandas/core/reshape/merge.py:110\u001b[0m, in \u001b[0;36mmerge\u001b[0;34m(left, right, how, on, left_on, right_on, left_index, right_index, sort, suffixes, copy, indicator, validate)\u001b[0m\n\u001b[1;32m     93\u001b[0m \u001b[39m@Substitution\u001b[39m(\u001b[39m\"\u001b[39m\u001b[39m\\n\u001b[39;00m\u001b[39mleft : DataFrame or named Series\u001b[39m\u001b[39m\"\u001b[39m)\n\u001b[1;32m     94\u001b[0m \u001b[39m@Appender\u001b[39m(_merge_doc, indents\u001b[39m=\u001b[39m\u001b[39m0\u001b[39m)\n\u001b[1;32m     95\u001b[0m \u001b[39mdef\u001b[39;00m \u001b[39mmerge\u001b[39m(\n\u001b[0;32m   (...)\u001b[0m\n\u001b[1;32m    108\u001b[0m     validate: \u001b[39mstr\u001b[39m \u001b[39m|\u001b[39m \u001b[39mNone\u001b[39;00m \u001b[39m=\u001b[39m \u001b[39mNone\u001b[39;00m,\n\u001b[1;32m    109\u001b[0m ) \u001b[39m-\u001b[39m\u001b[39m>\u001b[39m DataFrame:\n\u001b[0;32m--> 110\u001b[0m     op \u001b[39m=\u001b[39m _MergeOperation(\n\u001b[1;32m    111\u001b[0m         left,\n\u001b[1;32m    112\u001b[0m         right,\n\u001b[1;32m    113\u001b[0m         how\u001b[39m=\u001b[39;49mhow,\n\u001b[1;32m    114\u001b[0m         on\u001b[39m=\u001b[39;49mon,\n\u001b[1;32m    115\u001b[0m         left_on\u001b[39m=\u001b[39;49mleft_on,\n\u001b[1;32m    116\u001b[0m         right_on\u001b[39m=\u001b[39;49mright_on,\n\u001b[1;32m    117\u001b[0m         left_index\u001b[39m=\u001b[39;49mleft_index,\n\u001b[1;32m    118\u001b[0m         right_index\u001b[39m=\u001b[39;49mright_index,\n\u001b[1;32m    119\u001b[0m         sort\u001b[39m=\u001b[39;49msort,\n\u001b[1;32m    120\u001b[0m         suffixes\u001b[39m=\u001b[39;49msuffixes,\n\u001b[1;32m    121\u001b[0m         indicator\u001b[39m=\u001b[39;49mindicator,\n\u001b[1;32m    122\u001b[0m         validate\u001b[39m=\u001b[39;49mvalidate,\n\u001b[1;32m    123\u001b[0m     )\n\u001b[1;32m    124\u001b[0m     \u001b[39mreturn\u001b[39;00m op\u001b[39m.\u001b[39mget_result(copy\u001b[39m=\u001b[39mcopy)\n",
      "File \u001b[0;32m~/.local/lib/python3.10/site-packages/pandas/core/reshape/merge.py:703\u001b[0m, in \u001b[0;36m_MergeOperation.__init__\u001b[0;34m(self, left, right, how, on, left_on, right_on, axis, left_index, right_index, sort, suffixes, indicator, validate)\u001b[0m\n\u001b[1;32m    696\u001b[0m \u001b[39mself\u001b[39m\u001b[39m.\u001b[39m_cross \u001b[39m=\u001b[39m cross_col\n\u001b[1;32m    698\u001b[0m \u001b[39m# note this function has side effects\u001b[39;00m\n\u001b[1;32m    699\u001b[0m (\n\u001b[1;32m    700\u001b[0m     \u001b[39mself\u001b[39m\u001b[39m.\u001b[39mleft_join_keys,\n\u001b[1;32m    701\u001b[0m     \u001b[39mself\u001b[39m\u001b[39m.\u001b[39mright_join_keys,\n\u001b[1;32m    702\u001b[0m     \u001b[39mself\u001b[39m\u001b[39m.\u001b[39mjoin_names,\n\u001b[0;32m--> 703\u001b[0m ) \u001b[39m=\u001b[39m \u001b[39mself\u001b[39;49m\u001b[39m.\u001b[39;49m_get_merge_keys()\n\u001b[1;32m    705\u001b[0m \u001b[39m# validate the merge keys dtypes. We may need to coerce\u001b[39;00m\n\u001b[1;32m    706\u001b[0m \u001b[39m# to avoid incompatible dtypes\u001b[39;00m\n\u001b[1;32m    707\u001b[0m \u001b[39mself\u001b[39m\u001b[39m.\u001b[39m_maybe_coerce_merge_keys()\n",
      "File \u001b[0;32m~/.local/lib/python3.10/site-packages/pandas/core/reshape/merge.py:1162\u001b[0m, in \u001b[0;36m_MergeOperation._get_merge_keys\u001b[0;34m(self)\u001b[0m\n\u001b[1;32m   1160\u001b[0m rk \u001b[39m=\u001b[39m cast(Hashable, rk)\n\u001b[1;32m   1161\u001b[0m \u001b[39mif\u001b[39;00m rk \u001b[39mis\u001b[39;00m \u001b[39mnot\u001b[39;00m \u001b[39mNone\u001b[39;00m:\n\u001b[0;32m-> 1162\u001b[0m     right_keys\u001b[39m.\u001b[39mappend(right\u001b[39m.\u001b[39;49m_get_label_or_level_values(rk))\n\u001b[1;32m   1163\u001b[0m \u001b[39melse\u001b[39;00m:\n\u001b[1;32m   1164\u001b[0m     \u001b[39m# work-around for merge_asof(right_index=True)\u001b[39;00m\n\u001b[1;32m   1165\u001b[0m     right_keys\u001b[39m.\u001b[39mappend(right\u001b[39m.\u001b[39mindex)\n",
      "File \u001b[0;32m~/.local/lib/python3.10/site-packages/pandas/core/generic.py:1850\u001b[0m, in \u001b[0;36mNDFrame._get_label_or_level_values\u001b[0;34m(self, key, axis)\u001b[0m\n\u001b[1;32m   1844\u001b[0m     values \u001b[39m=\u001b[39m (\n\u001b[1;32m   1845\u001b[0m         \u001b[39mself\u001b[39m\u001b[39m.\u001b[39maxes[axis]\n\u001b[1;32m   1846\u001b[0m         \u001b[39m.\u001b[39mget_level_values(key)  \u001b[39m# type: ignore[assignment]\u001b[39;00m\n\u001b[1;32m   1847\u001b[0m         \u001b[39m.\u001b[39m_values\n\u001b[1;32m   1848\u001b[0m     )\n\u001b[1;32m   1849\u001b[0m \u001b[39melse\u001b[39;00m:\n\u001b[0;32m-> 1850\u001b[0m     \u001b[39mraise\u001b[39;00m \u001b[39mKeyError\u001b[39;00m(key)\n\u001b[1;32m   1852\u001b[0m \u001b[39m# Check for duplicates\u001b[39;00m\n\u001b[1;32m   1853\u001b[0m \u001b[39mif\u001b[39;00m values\u001b[39m.\u001b[39mndim \u001b[39m>\u001b[39m \u001b[39m1\u001b[39m:\n",
      "\u001b[0;31mKeyError\u001b[0m: 'Date'"
     ]
    }
   ],
   "source": [
    "from utils import *\n",
    "\n",
    "get_matchup_to_predict(\"LAL\", \"BOS\")"
   ]
  },
  {
   "cell_type": "code",
   "execution_count": null,
   "metadata": {},
   "outputs": [],
   "source": []
  },
  {
   "cell_type": "code",
   "execution_count": null,
   "metadata": {},
   "outputs": [],
   "source": []
  }
 ],
 "metadata": {
  "kernelspec": {
   "display_name": "Python 3",
   "language": "python",
   "name": "python3"
  },
  "language_info": {
   "codemirror_mode": {
    "name": "ipython",
    "version": 3
   },
   "file_extension": ".py",
   "mimetype": "text/x-python",
   "name": "python",
   "nbconvert_exporter": "python",
   "pygments_lexer": "ipython3",
   "version": "3.10.4"
  },
  "orig_nbformat": 4,
  "vscode": {
   "interpreter": {
    "hash": "3ad933181bd8a04b432d3370b9dc3b0662ad032c4dfaa4e4f1596c548f763858"
   }
  }
 },
 "nbformat": 4,
 "nbformat_minor": 2
}
