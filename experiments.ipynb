{
 "cells": [
  {
   "cell_type": "code",
   "execution_count": 179,
   "metadata": {},
   "outputs": [],
   "source": [
    "import pandas as pd\n",
    "import numpy as np\n",
    "from sklearn.linear_model import LinearRegression\n",
    "from sklearn.model_selection import train_test_split"
   ]
  },
  {
   "cell_type": "code",
   "execution_count": 180,
   "metadata": {},
   "outputs": [
    {
     "name": "stdout",
     "output_type": "stream",
     "text": [
      "BOS vs. LAC\n"
     ]
    }
   ],
   "source": [
    "matchup = pd.read_csv(\"matchup.txt\", header=None)\n",
    "matchup = str(matchup[0].values[0])\n",
    "print(matchup)\n"
   ]
  },
  {
   "cell_type": "code",
   "execution_count": 181,
   "metadata": {},
   "outputs": [],
   "source": [
    "team1 = matchup.split(\" \")[0]\n",
    "team2 = matchup.split(\" \")[-1]\n",
    "\n",
    "\n",
    "# scrape from basketball reference\n",
    "team1_stats = pd.read_html(f\"https://www.basketball-reference.com/teams/{team1}/2023_games.html\")\n",
    "team2_stats = pd.read_html(f\"https://www.basketball-reference.com/teams/{team2}/2023_games.html\")\n",
    "\n",
    "team1_stats = team1_stats[0]\n",
    "team2_stats = team2_stats[0]"
   ]
  },
  {
   "cell_type": "code",
   "execution_count": 182,
   "metadata": {},
   "outputs": [],
   "source": [
    "team1_stats.dropna(subset={\"Tm\"}, inplace=True) # null scores haven't happened yet\n",
    "team1_stats.drop(columns={\"Unnamed: 3\", \"Unnamed: 4\", \"Unnamed: 8\", \"Notes\"}, inplace=True) # drop columns we don't need\n",
    "team1_stats = team1_stats[team1_stats[\"Date\"] != \"Date\"] # remove header row showing up as a game\n",
    "team1_stats.rename(columns={\"Unnamed: 5\": \"Home\", \"Unnamed: 7\": \"Win\"}, inplace=True)\n",
    "\n",
    "# do above steps for team2\n",
    "team2_stats.dropna(subset={\"Tm\"}, inplace=True)\n",
    "team2_stats.drop(columns={\"Unnamed: 3\", \"Unnamed: 4\", \"Unnamed: 8\", \"Notes\"}, inplace=True)\n",
    "team2_stats = team2_stats[team2_stats[\"Date\"] != \"Date\"]\n",
    "team2_stats.rename(columns={\"Unnamed: 5\": \"Home\", \"Unnamed: 7\": \"Win\"}, inplace=True)"
   ]
  },
  {
   "cell_type": "code",
   "execution_count": 183,
   "metadata": {},
   "outputs": [],
   "source": [
    "# function to convert Home column to 0 or 1\n",
    "def home_to_binary(home):\n",
    "    if home == \"@\":\n",
    "        return 0\n",
    "    else:\n",
    "        return 1\n",
    "\n",
    "# function to convert Win column to 0 or 1\n",
    "def win_to_binary(win):\n",
    "    if win == \"W\":\n",
    "        return 1\n",
    "    else:\n",
    "        return 0\n",
    "\n",
    "# function to return day of week (first 3 letters) from date\n",
    "def get_day_of_week(date):\n",
    "    return date[:3]\n",
    "\n",
    "team1_stats[\"Home\"] = team1_stats.apply(lambda x: home_to_binary(x[\"Home\"]), axis=1)\n",
    "team1_stats[\"Win\"] = team1_stats.apply(lambda x: win_to_binary(x[\"Win\"]), axis=1)\n",
    "team1_stats[\"Day\"] = team1_stats.apply(lambda x: get_day_of_week(x[\"Date\"]), axis=1)\n",
    "\n",
    "# set data types\n",
    "team1_stats[\"Tm\"] = team1_stats[\"Tm\"].astype(int)\n",
    "team1_stats[\"Opp\"] = team1_stats[\"Opp\"].astype(int)\n",
    "team1_stats[\"W\"] = team1_stats[\"W\"].astype(int)\n",
    "team1_stats[\"L\"] = team1_stats[\"L\"].astype(int)\n",
    "\n",
    "# do same for team2\n",
    "team2_stats[\"Home\"] = team2_stats.apply(lambda x: home_to_binary(x[\"Home\"]), axis=1)\n",
    "team2_stats[\"Win\"] = team2_stats.apply(lambda x: win_to_binary(x[\"Win\"]), axis=1)\n",
    "team2_stats[\"Day\"] = team2_stats.apply(lambda x: get_day_of_week(x[\"Date\"]), axis=1)\n",
    "\n",
    "team2_stats[\"Tm\"] = team2_stats[\"Tm\"].astype(int)\n",
    "team2_stats[\"Opp\"] = team2_stats[\"Opp\"].astype(int)\n",
    "team2_stats[\"W\"] = team2_stats[\"W\"].astype(int)\n",
    "team2_stats[\"L\"] = team2_stats[\"L\"].astype(int)"
   ]
  },
  {
   "cell_type": "code",
   "execution_count": 184,
   "metadata": {},
   "outputs": [],
   "source": [
    "def day_to_numeric(day):\n",
    "    if day == \"Mon\":\n",
    "        return 1\n",
    "    if day == \"Tue\":\n",
    "        return 2\n",
    "    if day == \"Wed\":\n",
    "        return 3\n",
    "    if day == \"Thu\":\n",
    "        return 4\n",
    "    if day == \"Fri\":\n",
    "        return 5\n",
    "    if day == \"Sat\":\n",
    "        return 6\n",
    "    if day == \"Sun\":\n",
    "        return 7\n",
    "\n",
    "team1_stats[\"Day\"] = team1_stats.apply(lambda x: day_to_numeric(x[\"Day\"]), axis=1)\n",
    "team2_stats[\"Day\"] = team2_stats.apply(lambda x: day_to_numeric(x[\"Day\"]), axis=1)"
   ]
  },
  {
   "cell_type": "code",
   "execution_count": 185,
   "metadata": {},
   "outputs": [],
   "source": [
    "ranks = pd.read_html(\"https://www.cbssports.com/nba/powerrankings/\")\n",
    "ranks = ranks[0]\n",
    "\n",
    "ranks[\"Chg\"] = ranks[\"Chg\"].apply(lambda x: 0 if x == \"--\" else x)\n",
    "ranks.rename(columns={\"Unnamed: 2\": \"Note\"}, inplace=True) # may incorporate sentiment analysis into model\n",
    "\n",
    "team1_stats[\"teamname\"] = team1_stats[\"Opponent\"].apply(lambda x: x.split(\" \")[-1])\n",
    "team2_stats[\"teamname\"] = team2_stats[\"Opponent\"].apply(lambda x: x.split(\" \")[-1])\n",
    "\n",
    "team1_stats = team1_stats.merge(ranks, how=\"left\", left_on=\"teamname\", right_on=\"Teams\")\n",
    "team2_stats = team2_stats.merge(ranks, how=\"left\", left_on=\"teamname\", right_on=\"Teams\")\n",
    "\n",
    "team1_stats = team1_stats[[\"G\", \"Home\", \"W\", \"L\", \"Day\", \"Rk\", \"Chg\", \"Tm\"]]\n",
    "team2_stats = team2_stats[[\"G\", \"Home\", \"W\", \"L\", \"Day\", \"Rk\", \"Chg\", \"Tm\"]]\n",
    "\n",
    "# impute null values with mean of column\n",
    "team1_stats.dropna(inplace=True)\n",
    "team2_stats.dropna(inplace=True)\n",
    "\n",
    "# export both to csv\n",
    "team1_stats.to_csv(\"data/team1_stats.csv\", index=False)\n",
    "team2_stats.to_csv(\"data/team2_stats.csv\", index=False)"
   ]
  },
  {
   "cell_type": "code",
   "execution_count": 186,
   "metadata": {},
   "outputs": [
    {
     "data": {
      "text/html": [
       "<style>#sk-container-id-9 {color: black;background-color: white;}#sk-container-id-9 pre{padding: 0;}#sk-container-id-9 div.sk-toggleable {background-color: white;}#sk-container-id-9 label.sk-toggleable__label {cursor: pointer;display: block;width: 100%;margin-bottom: 0;padding: 0.3em;box-sizing: border-box;text-align: center;}#sk-container-id-9 label.sk-toggleable__label-arrow:before {content: \"▸\";float: left;margin-right: 0.25em;color: #696969;}#sk-container-id-9 label.sk-toggleable__label-arrow:hover:before {color: black;}#sk-container-id-9 div.sk-estimator:hover label.sk-toggleable__label-arrow:before {color: black;}#sk-container-id-9 div.sk-toggleable__content {max-height: 0;max-width: 0;overflow: hidden;text-align: left;background-color: #f0f8ff;}#sk-container-id-9 div.sk-toggleable__content pre {margin: 0.2em;color: black;border-radius: 0.25em;background-color: #f0f8ff;}#sk-container-id-9 input.sk-toggleable__control:checked~div.sk-toggleable__content {max-height: 200px;max-width: 100%;overflow: auto;}#sk-container-id-9 input.sk-toggleable__control:checked~label.sk-toggleable__label-arrow:before {content: \"▾\";}#sk-container-id-9 div.sk-estimator input.sk-toggleable__control:checked~label.sk-toggleable__label {background-color: #d4ebff;}#sk-container-id-9 div.sk-label input.sk-toggleable__control:checked~label.sk-toggleable__label {background-color: #d4ebff;}#sk-container-id-9 input.sk-hidden--visually {border: 0;clip: rect(1px 1px 1px 1px);clip: rect(1px, 1px, 1px, 1px);height: 1px;margin: -1px;overflow: hidden;padding: 0;position: absolute;width: 1px;}#sk-container-id-9 div.sk-estimator {font-family: monospace;background-color: #f0f8ff;border: 1px dotted black;border-radius: 0.25em;box-sizing: border-box;margin-bottom: 0.5em;}#sk-container-id-9 div.sk-estimator:hover {background-color: #d4ebff;}#sk-container-id-9 div.sk-parallel-item::after {content: \"\";width: 100%;border-bottom: 1px solid gray;flex-grow: 1;}#sk-container-id-9 div.sk-label:hover label.sk-toggleable__label {background-color: #d4ebff;}#sk-container-id-9 div.sk-serial::before {content: \"\";position: absolute;border-left: 1px solid gray;box-sizing: border-box;top: 0;bottom: 0;left: 50%;z-index: 0;}#sk-container-id-9 div.sk-serial {display: flex;flex-direction: column;align-items: center;background-color: white;padding-right: 0.2em;padding-left: 0.2em;position: relative;}#sk-container-id-9 div.sk-item {position: relative;z-index: 1;}#sk-container-id-9 div.sk-parallel {display: flex;align-items: stretch;justify-content: center;background-color: white;position: relative;}#sk-container-id-9 div.sk-item::before, #sk-container-id-9 div.sk-parallel-item::before {content: \"\";position: absolute;border-left: 1px solid gray;box-sizing: border-box;top: 0;bottom: 0;left: 50%;z-index: -1;}#sk-container-id-9 div.sk-parallel-item {display: flex;flex-direction: column;z-index: 1;position: relative;background-color: white;}#sk-container-id-9 div.sk-parallel-item:first-child::after {align-self: flex-end;width: 50%;}#sk-container-id-9 div.sk-parallel-item:last-child::after {align-self: flex-start;width: 50%;}#sk-container-id-9 div.sk-parallel-item:only-child::after {width: 0;}#sk-container-id-9 div.sk-dashed-wrapped {border: 1px dashed gray;margin: 0 0.4em 0.5em 0.4em;box-sizing: border-box;padding-bottom: 0.4em;background-color: white;}#sk-container-id-9 div.sk-label label {font-family: monospace;font-weight: bold;display: inline-block;line-height: 1.2em;}#sk-container-id-9 div.sk-label-container {text-align: center;}#sk-container-id-9 div.sk-container {/* jupyter's `normalize.less` sets `[hidden] { display: none; }` but bootstrap.min.css set `[hidden] { display: none !important; }` so we also need the `!important` here to be able to override the default hidden behavior on the sphinx rendered scikit-learn.org. See: https://github.com/scikit-learn/scikit-learn/issues/21755 */display: inline-block !important;position: relative;}#sk-container-id-9 div.sk-text-repr-fallback {display: none;}</style><div id=\"sk-container-id-9\" class=\"sk-top-container\"><div class=\"sk-text-repr-fallback\"><pre>LinearRegression()</pre><b>In a Jupyter environment, please rerun this cell to show the HTML representation or trust the notebook. <br />On GitHub, the HTML representation is unable to render, please try loading this page with nbviewer.org.</b></div><div class=\"sk-container\" hidden><div class=\"sk-item\"><div class=\"sk-estimator sk-toggleable\"><input class=\"sk-toggleable__control sk-hidden--visually\" id=\"sk-estimator-id-9\" type=\"checkbox\" checked><label for=\"sk-estimator-id-9\" class=\"sk-toggleable__label sk-toggleable__label-arrow\">LinearRegression</label><div class=\"sk-toggleable__content\"><pre>LinearRegression()</pre></div></div></div></div></div>"
      ],
      "text/plain": [
       "LinearRegression()"
      ]
     },
     "execution_count": 186,
     "metadata": {},
     "output_type": "execute_result"
    }
   ],
   "source": [
    "X = team1_stats.drop(columns={\"Tm\"})\n",
    "y = team1_stats[\"Tm\"]\n",
    "\n",
    "X_train, X_test, y_train, y_test = train_test_split(X, y, test_size=0.2, random_state=42)\n",
    "\n",
    "model = LinearRegression()\n",
    "model.fit(X, y)\n"
   ]
  },
  {
   "cell_type": "code",
   "execution_count": 187,
   "metadata": {},
   "outputs": [
    {
     "data": {
      "text/html": [
       "<style>#sk-container-id-10 {color: black;background-color: white;}#sk-container-id-10 pre{padding: 0;}#sk-container-id-10 div.sk-toggleable {background-color: white;}#sk-container-id-10 label.sk-toggleable__label {cursor: pointer;display: block;width: 100%;margin-bottom: 0;padding: 0.3em;box-sizing: border-box;text-align: center;}#sk-container-id-10 label.sk-toggleable__label-arrow:before {content: \"▸\";float: left;margin-right: 0.25em;color: #696969;}#sk-container-id-10 label.sk-toggleable__label-arrow:hover:before {color: black;}#sk-container-id-10 div.sk-estimator:hover label.sk-toggleable__label-arrow:before {color: black;}#sk-container-id-10 div.sk-toggleable__content {max-height: 0;max-width: 0;overflow: hidden;text-align: left;background-color: #f0f8ff;}#sk-container-id-10 div.sk-toggleable__content pre {margin: 0.2em;color: black;border-radius: 0.25em;background-color: #f0f8ff;}#sk-container-id-10 input.sk-toggleable__control:checked~div.sk-toggleable__content {max-height: 200px;max-width: 100%;overflow: auto;}#sk-container-id-10 input.sk-toggleable__control:checked~label.sk-toggleable__label-arrow:before {content: \"▾\";}#sk-container-id-10 div.sk-estimator input.sk-toggleable__control:checked~label.sk-toggleable__label {background-color: #d4ebff;}#sk-container-id-10 div.sk-label input.sk-toggleable__control:checked~label.sk-toggleable__label {background-color: #d4ebff;}#sk-container-id-10 input.sk-hidden--visually {border: 0;clip: rect(1px 1px 1px 1px);clip: rect(1px, 1px, 1px, 1px);height: 1px;margin: -1px;overflow: hidden;padding: 0;position: absolute;width: 1px;}#sk-container-id-10 div.sk-estimator {font-family: monospace;background-color: #f0f8ff;border: 1px dotted black;border-radius: 0.25em;box-sizing: border-box;margin-bottom: 0.5em;}#sk-container-id-10 div.sk-estimator:hover {background-color: #d4ebff;}#sk-container-id-10 div.sk-parallel-item::after {content: \"\";width: 100%;border-bottom: 1px solid gray;flex-grow: 1;}#sk-container-id-10 div.sk-label:hover label.sk-toggleable__label {background-color: #d4ebff;}#sk-container-id-10 div.sk-serial::before {content: \"\";position: absolute;border-left: 1px solid gray;box-sizing: border-box;top: 0;bottom: 0;left: 50%;z-index: 0;}#sk-container-id-10 div.sk-serial {display: flex;flex-direction: column;align-items: center;background-color: white;padding-right: 0.2em;padding-left: 0.2em;position: relative;}#sk-container-id-10 div.sk-item {position: relative;z-index: 1;}#sk-container-id-10 div.sk-parallel {display: flex;align-items: stretch;justify-content: center;background-color: white;position: relative;}#sk-container-id-10 div.sk-item::before, #sk-container-id-10 div.sk-parallel-item::before {content: \"\";position: absolute;border-left: 1px solid gray;box-sizing: border-box;top: 0;bottom: 0;left: 50%;z-index: -1;}#sk-container-id-10 div.sk-parallel-item {display: flex;flex-direction: column;z-index: 1;position: relative;background-color: white;}#sk-container-id-10 div.sk-parallel-item:first-child::after {align-self: flex-end;width: 50%;}#sk-container-id-10 div.sk-parallel-item:last-child::after {align-self: flex-start;width: 50%;}#sk-container-id-10 div.sk-parallel-item:only-child::after {width: 0;}#sk-container-id-10 div.sk-dashed-wrapped {border: 1px dashed gray;margin: 0 0.4em 0.5em 0.4em;box-sizing: border-box;padding-bottom: 0.4em;background-color: white;}#sk-container-id-10 div.sk-label label {font-family: monospace;font-weight: bold;display: inline-block;line-height: 1.2em;}#sk-container-id-10 div.sk-label-container {text-align: center;}#sk-container-id-10 div.sk-container {/* jupyter's `normalize.less` sets `[hidden] { display: none; }` but bootstrap.min.css set `[hidden] { display: none !important; }` so we also need the `!important` here to be able to override the default hidden behavior on the sphinx rendered scikit-learn.org. See: https://github.com/scikit-learn/scikit-learn/issues/21755 */display: inline-block !important;position: relative;}#sk-container-id-10 div.sk-text-repr-fallback {display: none;}</style><div id=\"sk-container-id-10\" class=\"sk-top-container\"><div class=\"sk-text-repr-fallback\"><pre>LinearRegression()</pre><b>In a Jupyter environment, please rerun this cell to show the HTML representation or trust the notebook. <br />On GitHub, the HTML representation is unable to render, please try loading this page with nbviewer.org.</b></div><div class=\"sk-container\" hidden><div class=\"sk-item\"><div class=\"sk-estimator sk-toggleable\"><input class=\"sk-toggleable__control sk-hidden--visually\" id=\"sk-estimator-id-10\" type=\"checkbox\" checked><label for=\"sk-estimator-id-10\" class=\"sk-toggleable__label sk-toggleable__label-arrow\">LinearRegression</label><div class=\"sk-toggleable__content\"><pre>LinearRegression()</pre></div></div></div></div></div>"
      ],
      "text/plain": [
       "LinearRegression()"
      ]
     },
     "execution_count": 187,
     "metadata": {},
     "output_type": "execute_result"
    }
   ],
   "source": [
    "X = team2_stats.drop(columns={\"Tm\"})\n",
    "y = team2_stats[\"Tm\"]\n",
    "\n",
    "X_train, X_test, y_train, y_test = train_test_split(X, y, test_size=0.2, random_state=42)\n",
    "\n",
    "model = LinearRegression()\n",
    "model.fit(X, y)\n"
   ]
  }
 ],
 "metadata": {
  "kernelspec": {
   "display_name": "Python 3",
   "language": "python",
   "name": "python3"
  },
  "language_info": {
   "codemirror_mode": {
    "name": "ipython",
    "version": 3
   },
   "file_extension": ".py",
   "mimetype": "text/x-python",
   "name": "python",
   "nbconvert_exporter": "python",
   "pygments_lexer": "ipython3",
   "version": "3.10.4"
  },
  "orig_nbformat": 4,
  "vscode": {
   "interpreter": {
    "hash": "3ad933181bd8a04b432d3370b9dc3b0662ad032c4dfaa4e4f1596c548f763858"
   }
  }
 },
 "nbformat": 4,
 "nbformat_minor": 2
}
